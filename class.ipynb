{
 "cells": [
  {
   "cell_type": "code",
   "execution_count": 41,
   "metadata": {},
   "outputs": [
    {
     "name": "stdout",
     "output_type": "stream",
     "text": [
      "John\n",
      "35\n"
     ]
    }
   ],
   "source": [
    "class person:\n",
    " def __init__(x,name,age):\n",
    "        x.name = name\n",
    "        x.age = age\n",
    "p1 = person(\"John\",35)\n",
    "print(p1.name)\n",
    "print(p1.age)\n",
    "            \n",
    "    \n",
    "    "
   ]
  },
  {
   "cell_type": "code",
   "execution_count": 40,
   "metadata": {},
   "outputs": [
    {
     "name": "stdout",
     "output_type": "stream",
     "text": [
      "Hello my name is Maria\n"
     ]
    }
   ],
   "source": [
    "class person:\n",
    " def __init__(x,name,age):\n",
    "    x.name = name\n",
    "    x.age = age\n",
    "    \n",
    " def myfunc(abc):\n",
    "    print(\"Hello my name is \" + abc.name)\n",
    "    \n",
    "p1 = person(\"Maria\", 28)\n",
    "p1.myfunc()\n",
    "        "
   ]
  },
  {
   "cell_type": "code",
   "execution_count": 1,
   "metadata": {},
   "outputs": [
    {
     "name": "stdout",
     "output_type": "stream",
     "text": [
      "Tom\n",
      "20\n"
     ]
    }
   ],
   "source": [
    "class Robot:\n",
    "  def __init__(self,name,age):\n",
    "    self.name = name\n",
    "    self.age = age\n",
    "\n",
    "r1 = Robot(\"Tom\",20)\n",
    "print(r1.name)\n",
    "print(r1.age)"
   ]
  },
  {
   "cell_type": "code",
   "execution_count": null,
   "metadata": {},
   "outputs": [],
   "source": []
  }
 ],
 "metadata": {
  "kernelspec": {
   "display_name": "Python 3",
   "language": "python",
   "name": "python3"
  },
  "language_info": {
   "codemirror_mode": {
    "name": "ipython",
    "version": 3
   },
   "file_extension": ".py",
   "mimetype": "text/x-python",
   "name": "python",
   "nbconvert_exporter": "python",
   "pygments_lexer": "ipython3",
   "version": "3.7.4"
  }
 },
 "nbformat": 4,
 "nbformat_minor": 2
}
